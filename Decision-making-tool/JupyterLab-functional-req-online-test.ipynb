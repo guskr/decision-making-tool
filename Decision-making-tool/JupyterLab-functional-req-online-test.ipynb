{
 "cells": [
  {
   "cell_type": "markdown",
   "id": "b98be6cd-8ba7-439f-835f-3b0581bec778",
   "metadata": {
    "extensions": {
     "jupyter_dashboards": {
      "activeView": "grid_default",
      "views": {
       "grid_default": {
        "col": 0,
        "height": 4,
        "hidden": false,
        "locked": true,
        "row": 18,
        "width": 12
       }
      }
     }
    },
    "tags": []
   },
   "source": [
    "# Decision-Making tool for Hybrid-Electric Aircraft"
   ]
  },
  {
   "cell_type": "markdown",
   "id": "d004a060-ef82-4e0f-800e-846f6733757b",
   "metadata": {
    "tags": []
   },
   "source": [
    "## Testing online"
   ]
  },
  {
   "cell_type": "code",
   "execution_count": null,
   "id": "7e6a3712-6f9e-4239-be53-865a69d93b77",
   "metadata": {},
   "outputs": [],
   "source": [
    "import matplotlib.pyplot as plt\n",
    "plt.plot([1, 2, 3, 4])\n",
    "plt.ylabel('some numbers')\n",
    "plt.show()"
   ]
  },
  {
   "cell_type": "markdown",
   "id": "420668e0-b9a3-40a6-9013-f4da805c6d9d",
   "metadata": {},
   "source": [
    "## Testing Suave"
   ]
  },
  {
   "cell_type": "code",
   "execution_count": null,
   "id": "029796bd-f6bc-4a5b-b3ac-d0aa57bf17d0",
   "metadata": {},
   "outputs": [],
   "source": [
    "# tut_mission_B737.py\n",
    "# \n",
    "# Created:  Aug 2014, SUAVE Team\n",
    "# Modified: Aug 2017, SUAVE Team\n",
    "#           Mar 2020, E. Botero\n"
   ]
  },
  {
   "cell_type": "code",
   "execution_count": null,
   "id": "6a9741e7-f5cb-4753-895d-57ab27735fa4",
   "metadata": {},
   "outputs": [],
   "source": [
    "# General Python Imports\n",
    "import numpy as np\n",
    "# Numpy is a commonly used mathematically computing package. It contains many frequently used\n",
    "# mathematical functions and is faster than native Python, especially when using vectorized\n",
    "# quantities.\n",
    "import matplotlib.pyplot as plt\n",
    "# Matplotlib's pyplot can be used to generate a large variety of plots. Here it is used to create\n",
    "# visualizations of the aircraft's performance throughout the mission."
   ]
  },
  {
   "cell_type": "code",
   "execution_count": 1,
   "id": "0511ca55-bc64-48fd-a875-9a8b057dd2bf",
   "metadata": {},
   "outputs": [
    {
     "name": "stdout",
     "output_type": "stream",
     "text": [
      "['/home/guskr/decision-making-tool', '/home/guskr/decision-making-tool', '/home/guskr/SU2/bin', '/home/guskr/anaconda3/envs/decision-making-env-tool/lib/python310.zip', '/home/guskr/anaconda3/envs/decision-making-env-tool/lib/python3.10', '/home/guskr/anaconda3/envs/decision-making-env-tool/lib/python3.10/lib-dynload', '', '/home/guskr/anaconda3/envs/decision-making-env-tool/lib/python3.10/site-packages', '/home/guskr/anaconda3/envs/decision-making-env-tool/lib/python3.10/site-packages/PyQt5_sip-12.9.0-py3.10-linux-x86_64.egg', '/home/guskr/anaconda3/envs/decision-making-env-tool/lib/python3.10/site-packages/SUAVE-2.5.2-py3.10.egg', 'SUAVE/']\n"
     ]
    }
   ],
   "source": [
    "import sys\n",
    "\n",
    "# sys.path.insert(0, '')\n",
    "sys.path.append('SUAVE/')\n",
    "print(sys.path)"
   ]
  },
  {
   "cell_type": "code",
   "execution_count": 7,
   "id": "55f36ec2-042a-4416-bf00-f451d1b41273",
   "metadata": {},
   "outputs": [],
   "source": [
    "import SUAVE"
   ]
  },
  {
   "cell_type": "code",
   "execution_count": 12,
   "id": "cff46906-f407-49b1-87b7-f1e1007e2467",
   "metadata": {
    "tags": []
   },
   "outputs": [],
   "source": [
    "# I made some changes to the original code to improve compatibility\n",
    "\n",
    "import sys\n",
    "\n",
    "if sys.version_info[:2] >= (3, 8):\n",
    "    from collections.abc import MutableMapping\n",
    "else:\n",
    "    from collections import MutableMapping"
   ]
  },
  {
   "cell_type": "code",
   "execution_count": 13,
   "id": "45578ad0-01e6-431b-a26c-28ccbbcfb1ce",
   "metadata": {},
   "outputs": [
    {
     "ename": "ModuleNotFoundError",
     "evalue": "No module named 'SUAVE.Core'",
     "output_type": "error",
     "traceback": [
      "\u001b[0;31m---------------------------------------------------------------------------\u001b[0m",
      "\u001b[0;31mModuleNotFoundError\u001b[0m                       Traceback (most recent call last)",
      "Input \u001b[0;32mIn [13]\u001b[0m, in \u001b[0;36m<cell line: 3>\u001b[0;34m()\u001b[0m\n\u001b[1;32m      1\u001b[0m \u001b[38;5;66;03m# SUAVE Imports\u001b[39;00m\n\u001b[1;32m      2\u001b[0m \u001b[38;5;28;01mimport\u001b[39;00m \u001b[38;5;21;01mSUAVE\u001b[39;00m\n\u001b[0;32m----> 3\u001b[0m \u001b[38;5;28;01mfrom\u001b[39;00m \u001b[38;5;21;01mSUAVE\u001b[39;00m\u001b[38;5;21;01m.\u001b[39;00m\u001b[38;5;21;01mtrunk\u001b[39;00m\u001b[38;5;21;01m.\u001b[39;00m\u001b[38;5;21;01mSUAVE\u001b[39;00m\u001b[38;5;21;01m.\u001b[39;00m\u001b[38;5;21;01mCore\u001b[39;00m \u001b[38;5;28;01mimport\u001b[39;00m Data, Units \n\u001b[1;32m      4\u001b[0m \u001b[38;5;66;03m# The Data import here is a native SUAVE data structure that functions similarly to a dictionary.\u001b[39;00m\n\u001b[1;32m      5\u001b[0m \u001b[38;5;66;03m#   However, iteration directly returns values, and values can be retrieved either with the \u001b[39;00m\n\u001b[1;32m      6\u001b[0m \u001b[38;5;66;03m#   typical dictionary syntax of \"entry['key']\" or the more class-like \"entry.key\". For this to work\u001b[39;00m\n\u001b[0;32m   (...)\u001b[0m\n\u001b[1;32m     10\u001b[0m \u001b[38;5;66;03m#   converted. To use a length of 20 feet, set l = 20 * Units.ft . Additionally, to convert to SUAVE\u001b[39;00m\n\u001b[1;32m     11\u001b[0m \u001b[38;5;66;03m#   output back to a desired units, use l_ft = l_m / Units.ft\u001b[39;00m\n\u001b[1;32m     12\u001b[0m \u001b[38;5;28;01mfrom\u001b[39;00m \u001b[38;5;21;01mSUAVE\u001b[39;00m\u001b[38;5;21;01m.\u001b[39;00m\u001b[38;5;21;01mPlots\u001b[39;00m\u001b[38;5;21;01m.\u001b[39;00m\u001b[38;5;21;01mMission_Plots\u001b[39;00m \u001b[38;5;28;01mimport\u001b[39;00m \u001b[38;5;241m*\u001b[39m\n",
      "File \u001b[0;32m~/decision-making-tool/SUAVE/trunk/SUAVE/__init__.py:14\u001b[0m, in \u001b[0;36m<module>\u001b[0;34m\u001b[0m\n\u001b[1;32m     12\u001b[0m \u001b[38;5;28;01mfrom\u001b[39;00m \u001b[38;5;21;01m.\u001b[39;00m \u001b[38;5;28;01mimport\u001b[39;00m Plugins\n\u001b[1;32m     13\u001b[0m \u001b[38;5;28;01mfrom\u001b[39;00m \u001b[38;5;21;01m.\u001b[39;00m \u001b[38;5;28;01mimport\u001b[39;00m Core\n\u001b[0;32m---> 14\u001b[0m \u001b[38;5;28;01mfrom\u001b[39;00m \u001b[38;5;21;01m.\u001b[39;00m \u001b[38;5;28;01mimport\u001b[39;00m Components\n\u001b[1;32m     15\u001b[0m \u001b[38;5;28;01mfrom\u001b[39;00m \u001b[38;5;21;01m.\u001b[39;00m \u001b[38;5;28;01mimport\u001b[39;00m Analyses\n\u001b[1;32m     16\u001b[0m \u001b[38;5;28;01mfrom\u001b[39;00m \u001b[38;5;21;01m.\u001b[39;00m \u001b[38;5;28;01mimport\u001b[39;00m Methods\n",
      "File \u001b[0;32m~/decision-making-tool/SUAVE/trunk/SUAVE/Components/__init__.py:6\u001b[0m, in \u001b[0;36m<module>\u001b[0;34m\u001b[0m\n\u001b[1;32m      1\u001b[0m \u001b[38;5;66;03m## @defgroup Components\u001b[39;00m\n\u001b[1;32m      2\u001b[0m \u001b[38;5;66;03m# Components are classes that represent objects that are put together to form a vehicle.\u001b[39;00m\n\u001b[1;32m      3\u001b[0m \u001b[38;5;66;03m# They contain default variables and may contain functions that operate on these variables.\u001b[39;00m\n\u001b[1;32m      4\u001b[0m \n\u001b[1;32m      5\u001b[0m \u001b[38;5;66;03m# classes\u001b[39;00m\n\u001b[0;32m----> 6\u001b[0m \u001b[38;5;28;01mfrom\u001b[39;00m \u001b[38;5;21;01m.\u001b[39;00m\u001b[38;5;21;01mComponent\u001b[39;00m \u001b[38;5;28;01mimport\u001b[39;00m Component\n\u001b[1;32m      8\u001b[0m \u001b[38;5;28;01mfrom\u001b[39;00m \u001b[38;5;21;01m.\u001b[39;00m\u001b[38;5;21;01mMass_Properties\u001b[39;00m \u001b[38;5;28;01mimport\u001b[39;00m Mass_Properties\n\u001b[1;32m      9\u001b[0m \u001b[38;5;28;01mfrom\u001b[39;00m \u001b[38;5;21;01m.\u001b[39;00m\u001b[38;5;21;01mPhysical_Component\u001b[39;00m \u001b[38;5;28;01mimport\u001b[39;00m Physical_Component\n",
      "File \u001b[0;32m~/decision-making-tool/SUAVE/trunk/SUAVE/Components/Component.py:11\u001b[0m, in \u001b[0;36m<module>\u001b[0;34m\u001b[0m\n\u001b[1;32m      1\u001b[0m \u001b[38;5;66;03m## @ingroup Components\u001b[39;00m\n\u001b[1;32m      2\u001b[0m \u001b[38;5;66;03m# Component.py\u001b[39;00m\n\u001b[1;32m      3\u001b[0m \u001b[38;5;66;03m# \u001b[39;00m\n\u001b[0;32m   (...)\u001b[0m\n\u001b[1;32m      8\u001b[0m \u001b[38;5;66;03m#  Imports\u001b[39;00m\n\u001b[1;32m      9\u001b[0m \u001b[38;5;66;03m# ----------------------------------------------------------------------\u001b[39;00m\n\u001b[0;32m---> 11\u001b[0m \u001b[38;5;28;01mfrom\u001b[39;00m \u001b[38;5;21;01mSUAVE\u001b[39;00m\u001b[38;5;21;01m.\u001b[39;00m\u001b[38;5;21;01mCore\u001b[39;00m \u001b[38;5;28;01mimport\u001b[39;00m Data\n\u001b[1;32m     12\u001b[0m \u001b[38;5;28;01mfrom\u001b[39;00m \u001b[38;5;21;01mSUAVE\u001b[39;00m\u001b[38;5;21;01m.\u001b[39;00m\u001b[38;5;21;01mCore\u001b[39;00m \u001b[38;5;28;01mimport\u001b[39;00m Container \u001b[38;5;28;01mas\u001b[39;00m ContainerBase\n\u001b[1;32m     13\u001b[0m \u001b[38;5;28;01mimport\u001b[39;00m \u001b[38;5;21;01mnumpy\u001b[39;00m \u001b[38;5;28;01mas\u001b[39;00m \u001b[38;5;21;01mnp\u001b[39;00m\n",
      "\u001b[0;31mModuleNotFoundError\u001b[0m: No module named 'SUAVE.Core'"
     ]
    }
   ],
   "source": [
    "# SUAVE Imports\n",
    "import SUAVE\n",
    "from SUAVE.trunk.SUAVE.Core import Data, Units \n",
    "# The Data import here is a native SUAVE data structure that functions similarly to a dictionary.\n",
    "#   However, iteration directly returns values, and values can be retrieved either with the \n",
    "#   typical dictionary syntax of \"entry['key']\" or the more class-like \"entry.key\". For this to work\n",
    "#   properly, all keys must be strings.\n",
    "# The Units import is used to allow units to be specified in the vehicle setup (or elsewhere).\n",
    "#   This is because SUAVE functions generally operate using metric units, so inputs must be \n",
    "#   converted. To use a length of 20 feet, set l = 20 * Units.ft . Additionally, to convert to SUAVE\n",
    "#   output back to a desired units, use l_ft = l_m / Units.ft\n",
    "from SUAVE.Plots.Mission_Plots import *\n",
    "# These are a variety of plotting routines that simplify the plotting process for commonly \n",
    "# requested metrics. Plots of specifically desired metrics can also be manually created.\n",
    "from SUAVE.Methods.Propulsion.turbofan_sizing import turbofan_sizing\n",
    "# Rather than conventional sizing, this script builds the turbofan energy network. This process is\n",
    "# covered in more detail in a separate tutorial. It does not size the turbofan geometry."
   ]
  },
  {
   "cell_type": "code",
   "execution_count": null,
   "id": "c5c69371-d2ae-4db6-91fa-970ed09e5b03",
   "metadata": {},
   "outputs": [],
   "source": []
  },
  {
   "cell_type": "code",
   "execution_count": null,
   "id": "ed99746e-baae-4bf1-8ac7-c61136bd78ba",
   "metadata": {},
   "outputs": [],
   "source": []
  },
  {
   "cell_type": "code",
   "execution_count": null,
   "id": "b7df4d72-036b-4b4e-9c37-b75a8eb5d29d",
   "metadata": {},
   "outputs": [],
   "source": []
  },
  {
   "cell_type": "markdown",
   "id": "81d31577-1efb-48e5-a231-24f8eac796b5",
   "metadata": {},
   "source": [
    "## Testing Andrea's code"
   ]
  },
  {
   "cell_type": "code",
   "execution_count": null,
   "id": "924f2f73-fd66-4078-b642-dd3b6f5251c6",
   "metadata": {},
   "outputs": [],
   "source": []
  }
 ],
 "metadata": {
  "kernelspec": {
   "display_name": "Python [conda env:decision-making-env-tool] *",
   "language": "python",
   "name": "conda-env-decision-making-env-tool-py"
  },
  "language_info": {
   "codemirror_mode": {
    "name": "ipython",
    "version": 3
   },
   "file_extension": ".py",
   "mimetype": "text/x-python",
   "name": "python",
   "nbconvert_exporter": "python",
   "pygments_lexer": "ipython3",
   "version": "3.10.5"
  }
 },
 "nbformat": 4,
 "nbformat_minor": 5
}
